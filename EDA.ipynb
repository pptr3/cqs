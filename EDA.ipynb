{
 "cells": [
  {
   "cell_type": "markdown",
   "metadata": {},
   "source": [
    "In questo notebook vengono mostrati i passaggi del nostro algoritmo di associazione secondp le tre casistiche trovate.\n",
    "\n",
    "Input algoritmo: IDCO45 (stringa), Importo Totale (float)\n",
    "\n",
    "Output algoritmo: una lista di tuple dove ogni tupla rappresesnta una coppia (ID_PRATICA, IMPORTO).\n",
    "\n",
    "Nota rigurdante l'output: l'output ha un formato diverso dipendentemente dal caso in cui ci si trova. In particolare, per il caso 1 si avrà una output formato da una ed una sola coppia (ID_PRATICA, IMPORTO), quindi la struttura dell'output sarà:\n",
    "\n",
    "`[(ID_PRATICA, IMPORTO)]`.\n",
    "\n",
    "Nel caso 2, si avranno N coppie, quindi:\n",
    "\n",
    "`[(ID_PRATICA_1, IMPORTO_1), (ID_PRATICA_2, IMPORTO_2), ... , (ID_PRATICA_N, IMPORTO_N)]`.\n",
    "\n",
    "\n",
    "\n",
    "Nel caso 3, si avranno K combinazioni con dentro da 1 ad M coppie, quindi si avrà una struttura di questo tipo (in questo caso K = 4):\n",
    "\n",
    "[\n",
    "\n",
    "    [(ID_PRATICA_1, IMPORTO_1), (ID_PRATICA_2, IMPORTO_2)],\n",
    "    [(ID_PRATICA_1, IMPORTO_3), (ID_PRATICA_2, IMPORTO_4), ... , (ID_PRATICA_M, IMPORTO_M)],\n",
    "    [(ID_PRATICA_1, IMPORTO_1), (ID_PRATICA_2, IMPORTO_3), (ID_PRATICA_3, IMPORTO_4)],\n",
    "    [(ID_PRATICA_1, IMPORTO_3)]\n",
    "]"
   ]
  },
  {
   "cell_type": "code",
   "execution_count": 8,
   "metadata": {},
   "outputs": [
    {
     "name": "stdout",
     "output_type": "stream",
     "text": [
      "WARNING *** file size (1029287) not 512 + multiple of sector size (512)\n",
      "WARNING *** OLE2 inconsistency: SSCS size is 0 but SSAT size is non-zero\n"
     ]
    }
   ],
   "source": [
    "import pandas as pd\n",
    "\n",
    "pd.set_option('display.max_colwidth', None)\n",
    "\n",
    "mandati_non_associati = pd.read_excel('data/03158_NON_ASSOCIATI_13_05_24.xls')\n",
    "mandati_non_associati[\"DTINPUT\"] = pd.to_datetime(mandati_non_associati[\"DTINPUT\"], format=\"%d.%m.%Y\")"
   ]
  },
  {
   "cell_type": "code",
   "execution_count": 9,
   "metadata": {},
   "outputs": [],
   "source": [
    "# laod dataset delle pratiche e preprocess it\n",
    "pratiche_new = pd.read_csv('data/03158_pratiche_17_05_2024.csv', delimiter=\";\", encoding=\"latin1\")\n",
    "pratiche_new[\"DATA_STATO\"] = pd.to_datetime(pratiche_new[\"DATA_STATO\"], format=\"%d/%m/%Y\")\n",
    "pratiche_new['IMPORTO_RATA'] = pratiche_new['IMPORTO_RATA'].str.replace(',', '.').astype(float)\n",
    "\n",
    "enti = pd.read_excel('data/03158_IBAN_ENTI_13_05_24.xls')"
   ]
  },
  {
   "cell_type": "markdown",
   "metadata": {
    "id": "OK1YCJgCdrZr"
   },
   "source": [
    "# Caso 1\n",
    "\n",
    "Come input avremo l'IDCO45 e importo totale. Da esso è necessario estrarre l'IBAN. Dall'IBAN poi estrarremmo l'IDENTE perchè dobbiamo andare a guardare nel dataset delle pratiche e questo è indicizzabile solo dall'IDENTE.\n",
    "\n",
    "Abbiamo già estratto dall'IDCO45 un IBAN di esempio, che è:\n",
    "IT16W0338001600000014795012 e conosciamo già l'importo totale (perchè viene fornito in input) che in questo caso è 193.0.\n",
    "\n",
    "Ora cerchiamo l'ente corrispondente all'IBAN di esempio e ne prendiamo il IDENTE.\n"
   ]
  },
  {
   "cell_type": "code",
   "execution_count": 10,
   "metadata": {
    "colab": {
     "base_uri": "https://localhost:8080/",
     "height": 115
    },
    "id": "-erir8drdrZr",
    "outputId": "74f22836-d300-4ace-8f1c-958da5c640f6"
   },
   "outputs": [
    {
     "name": "stdout",
     "output_type": "stream",
     "text": [
      "WARNING *** OLE2 inconsistency: SSCS size is 0 but SSAT size is non-zero\n"
     ]
    },
    {
     "data": {
      "text/html": [
       "<div>\n",
       "<style scoped>\n",
       "    .dataframe tbody tr th:only-of-type {\n",
       "        vertical-align: middle;\n",
       "    }\n",
       "\n",
       "    .dataframe tbody tr th {\n",
       "        vertical-align: top;\n",
       "    }\n",
       "\n",
       "    .dataframe thead th {\n",
       "        text-align: right;\n",
       "    }\n",
       "</style>\n",
       "<table border=\"1\" class=\"dataframe\">\n",
       "  <thead>\n",
       "    <tr style=\"text-align: right;\">\n",
       "      <th></th>\n",
       "      <th>IDENTE</th>\n",
       "      <th>IBAN_ACCREDITO</th>\n",
       "      <th>DATA_INS</th>\n",
       "      <th>FG_ATTIVO</th>\n",
       "    </tr>\n",
       "  </thead>\n",
       "  <tbody>\n",
       "    <tr>\n",
       "      <th>14067</th>\n",
       "      <td>12503</td>\n",
       "      <td>IT16W0338001600000014795012</td>\n",
       "      <td>2023-06-13 18:11:46</td>\n",
       "      <td>S</td>\n",
       "    </tr>\n",
       "  </tbody>\n",
       "</table>\n",
       "</div>"
      ],
      "text/plain": [
       "       IDENTE               IBAN_ACCREDITO            DATA_INS FG_ATTIVO\n",
       "14067   12503  IT16W0338001600000014795012 2023-06-13 18:11:46         S"
      ]
     },
     "execution_count": 10,
     "metadata": {},
     "output_type": "execute_result"
    }
   ],
   "source": [
    "enti[enti['IBAN_ACCREDITO'] == 'IT16W0338001600000014795012']"
   ]
  },
  {
   "cell_type": "markdown",
   "metadata": {},
   "source": [
    "Ora, se applichiamo il seguente filtro e questo restitusice una row, allora siamo per forza in un caso 1 e restituiamo in output la coppia (ID_PRATICA, IMPORTO_RATA) che sarebbe quindi: [(68149, 193.0)].\n",
    "\n",
    "NOTA: nel caso 1 dobbiamo filtrare sempre per STATO == \"Perfezionamento\""
   ]
  },
  {
   "cell_type": "code",
   "execution_count": 15,
   "metadata": {},
   "outputs": [
    {
     "data": {
      "text/html": [
       "<div>\n",
       "<style scoped>\n",
       "    .dataframe tbody tr th:only-of-type {\n",
       "        vertical-align: middle;\n",
       "    }\n",
       "\n",
       "    .dataframe tbody tr th {\n",
       "        vertical-align: top;\n",
       "    }\n",
       "\n",
       "    .dataframe thead th {\n",
       "        text-align: right;\n",
       "    }\n",
       "</style>\n",
       "<table border=\"1\" class=\"dataframe\">\n",
       "  <thead>\n",
       "    <tr style=\"text-align: right;\">\n",
       "      <th></th>\n",
       "      <th>ID_PRATICA</th>\n",
       "      <th>STATO</th>\n",
       "      <th>IMPORTO_RATA</th>\n",
       "      <th>ENTE_PAGANTE</th>\n",
       "      <th>IDENTE</th>\n",
       "      <th>DATA_STATO</th>\n",
       "    </tr>\n",
       "  </thead>\n",
       "  <tbody>\n",
       "    <tr>\n",
       "      <th>26825</th>\n",
       "      <td>68149</td>\n",
       "      <td>Perfezionamento</td>\n",
       "      <td>193.0</td>\n",
       "      <td>AMAZON ITALIA TRANSPORT</td>\n",
       "      <td>12503</td>\n",
       "      <td>2020-12-30</td>\n",
       "    </tr>\n",
       "  </tbody>\n",
       "</table>\n",
       "</div>"
      ],
      "text/plain": [
       "       ID_PRATICA            STATO  IMPORTO_RATA             ENTE_PAGANTE  \\\n",
       "26825       68149  Perfezionamento         193.0  AMAZON ITALIA TRANSPORT   \n",
       "\n",
       "       IDENTE DATA_STATO  \n",
       "26825   12503 2020-12-30  "
      ]
     },
     "execution_count": 15,
     "metadata": {},
     "output_type": "execute_result"
    }
   ],
   "source": [
    "pratiche_new[(pratiche_new['IDENTE'] == 12503) & (pratiche_new['IMPORTO_RATA'] == 193.0) & ((pratiche_new['STATO'] == \"Perfezionamento\"))]"
   ]
  },
  {
   "cell_type": "markdown",
   "metadata": {},
   "source": [
    "# CASO 2\n",
    "\n",
    "Come input avremo sempre l'IDCO45 e importo totale. Da esso è necessario estrarre l'IBAN. Dall'IBAN poi estrarremmo l'IDENTE perchè dobbiamo andare a guardare nel dataset delle pratiche e questo è indicizzabile solo dall'IDENTE.\n",
    "\n",
    "Abbiamo già estratto dall'IDCO45 un IBAN di esempio, che è:\n",
    "IT09A0538704599000044194533 e conosciamo già l'importo totale (perchè viene fornito in input) che in questo caso è 786.0.\n",
    "\n",
    "Ora cerchiamo l'ente corrispondente all'IBAN di esempio e ne prendiamo il IDENTE."
   ]
  },
  {
   "cell_type": "code",
   "execution_count": 13,
   "metadata": {},
   "outputs": [
    {
     "data": {
      "text/html": [
       "<div>\n",
       "<style scoped>\n",
       "    .dataframe tbody tr th:only-of-type {\n",
       "        vertical-align: middle;\n",
       "    }\n",
       "\n",
       "    .dataframe tbody tr th {\n",
       "        vertical-align: top;\n",
       "    }\n",
       "\n",
       "    .dataframe thead th {\n",
       "        text-align: right;\n",
       "    }\n",
       "</style>\n",
       "<table border=\"1\" class=\"dataframe\">\n",
       "  <thead>\n",
       "    <tr style=\"text-align: right;\">\n",
       "      <th></th>\n",
       "      <th>IDENTE</th>\n",
       "      <th>IBAN_ACCREDITO</th>\n",
       "      <th>DATA_INS</th>\n",
       "      <th>FG_ATTIVO</th>\n",
       "    </tr>\n",
       "  </thead>\n",
       "  <tbody>\n",
       "    <tr>\n",
       "      <th>16261</th>\n",
       "      <td>3800</td>\n",
       "      <td>IT09A0538704599000044194533</td>\n",
       "      <td>2023-10-18 09:57:08</td>\n",
       "      <td>S</td>\n",
       "    </tr>\n",
       "  </tbody>\n",
       "</table>\n",
       "</div>"
      ],
      "text/plain": [
       "       IDENTE               IBAN_ACCREDITO            DATA_INS FG_ATTIVO\n",
       "16261    3800  IT09A0538704599000044194533 2023-10-18 09:57:08         S"
      ]
     },
     "execution_count": 13,
     "metadata": {},
     "output_type": "execute_result"
    }
   ],
   "source": [
    "enti[enti['IBAN_ACCREDITO'] == 'IT09A0538704599000044194533']"
   ]
  },
  {
   "cell_type": "markdown",
   "metadata": {},
   "source": [
    "Ora, come fatto nel caso 1, facciamo il filtro per IDENTE e l'importo totale. Se avrò in output una singola row, allora sarà un caso 1 come detto sopra. Se invece non ottengo nessuna row, allora ricadiamo nel caso 2 o nel caso 3.\n",
    "\n",
    "NOTA: anche nel caso 2 dobbiamo filtrare sempre per STATO == \"Perfezionamento\""
   ]
  },
  {
   "cell_type": "code",
   "execution_count": 28,
   "metadata": {},
   "outputs": [
    {
     "data": {
      "text/html": [
       "<div>\n",
       "<style scoped>\n",
       "    .dataframe tbody tr th:only-of-type {\n",
       "        vertical-align: middle;\n",
       "    }\n",
       "\n",
       "    .dataframe tbody tr th {\n",
       "        vertical-align: top;\n",
       "    }\n",
       "\n",
       "    .dataframe thead th {\n",
       "        text-align: right;\n",
       "    }\n",
       "</style>\n",
       "<table border=\"1\" class=\"dataframe\">\n",
       "  <thead>\n",
       "    <tr style=\"text-align: right;\">\n",
       "      <th></th>\n",
       "      <th>ID_PRATICA</th>\n",
       "      <th>STATO</th>\n",
       "      <th>IMPORTO_RATA</th>\n",
       "      <th>ENTE_PAGANTE</th>\n",
       "      <th>IDENTE</th>\n",
       "      <th>DATA_STATO</th>\n",
       "    </tr>\n",
       "  </thead>\n",
       "  <tbody>\n",
       "  </tbody>\n",
       "</table>\n",
       "</div>"
      ],
      "text/plain": [
       "Empty DataFrame\n",
       "Columns: [ID_PRATICA, STATO, IMPORTO_RATA, ENTE_PAGANTE, IDENTE, DATA_STATO]\n",
       "Index: []"
      ]
     },
     "execution_count": 28,
     "metadata": {},
     "output_type": "execute_result"
    }
   ],
   "source": [
    "pratiche_new[(pratiche_new['IDENTE'] == 3800) & (pratiche_new['IMPORTO_RATA'] == 786.0) & ((pratiche_new['STATO'] == \"Perfezionamento\"))]"
   ]
  },
  {
   "cell_type": "markdown",
   "metadata": {},
   "source": [
    "Nessuna row in output! Okay, quindi siamo in un caso 2 o caso 3. Andiamo a verificare se siamo in un caso 2 facendo il filtro sull'IDENTE:"
   ]
  },
  {
   "cell_type": "code",
   "execution_count": 27,
   "metadata": {},
   "outputs": [
    {
     "data": {
      "text/html": [
       "<div>\n",
       "<style scoped>\n",
       "    .dataframe tbody tr th:only-of-type {\n",
       "        vertical-align: middle;\n",
       "    }\n",
       "\n",
       "    .dataframe tbody tr th {\n",
       "        vertical-align: top;\n",
       "    }\n",
       "\n",
       "    .dataframe thead th {\n",
       "        text-align: right;\n",
       "    }\n",
       "</style>\n",
       "<table border=\"1\" class=\"dataframe\">\n",
       "  <thead>\n",
       "    <tr style=\"text-align: right;\">\n",
       "      <th></th>\n",
       "      <th>ID_PRATICA</th>\n",
       "      <th>STATO</th>\n",
       "      <th>IMPORTO_RATA</th>\n",
       "      <th>ENTE_PAGANTE</th>\n",
       "      <th>IDENTE</th>\n",
       "      <th>DATA_STATO</th>\n",
       "    </tr>\n",
       "  </thead>\n",
       "  <tbody>\n",
       "    <tr>\n",
       "      <th>15332</th>\n",
       "      <td>115947</td>\n",
       "      <td>Perfezionamento</td>\n",
       "      <td>272.0</td>\n",
       "      <td>ATERP CALABRIA - AZIENDA TERRITORIALE EDILIZIA PUBBLICA</td>\n",
       "      <td>3800</td>\n",
       "      <td>2023-11-16</td>\n",
       "    </tr>\n",
       "    <tr>\n",
       "      <th>15334</th>\n",
       "      <td>84306</td>\n",
       "      <td>Perfezionamento</td>\n",
       "      <td>220.0</td>\n",
       "      <td>ATERP CALABRIA - AZIENDA TERRITORIALE EDILIZIA PUBBLICA</td>\n",
       "      <td>3800</td>\n",
       "      <td>2022-01-04</td>\n",
       "    </tr>\n",
       "    <tr>\n",
       "      <th>24656</th>\n",
       "      <td>122490</td>\n",
       "      <td>Perfezionamento</td>\n",
       "      <td>294.0</td>\n",
       "      <td>ATERP CALABRIA - AZIENDA TERRITORIALE EDILIZIA PUBBLICA</td>\n",
       "      <td>3800</td>\n",
       "      <td>2024-01-31</td>\n",
       "    </tr>\n",
       "  </tbody>\n",
       "</table>\n",
       "</div>"
      ],
      "text/plain": [
       "       ID_PRATICA            STATO  IMPORTO_RATA  \\\n",
       "15332      115947  Perfezionamento         272.0   \n",
       "15334       84306  Perfezionamento         220.0   \n",
       "24656      122490  Perfezionamento         294.0   \n",
       "\n",
       "                                                  ENTE_PAGANTE  IDENTE  \\\n",
       "15332  ATERP CALABRIA - AZIENDA TERRITORIALE EDILIZIA PUBBLICA    3800   \n",
       "15334  ATERP CALABRIA - AZIENDA TERRITORIALE EDILIZIA PUBBLICA    3800   \n",
       "24656  ATERP CALABRIA - AZIENDA TERRITORIALE EDILIZIA PUBBLICA    3800   \n",
       "\n",
       "      DATA_STATO  \n",
       "15332 2023-11-16  \n",
       "15334 2022-01-04  \n",
       "24656 2024-01-31  "
      ]
     },
     "execution_count": 27,
     "metadata": {},
     "output_type": "execute_result"
    }
   ],
   "source": [
    "pratiche_new[(pratiche_new['IDENTE'] == 3800) & (pratiche_new['STATO'] == \"Perfezionamento\")]"
   ]
  },
  {
   "cell_type": "markdown",
   "metadata": {},
   "source": [
    "Ottengo N rows. Siamo nel caso 2 se e solo se la somma dei singoli IMPORTO_RATA è uguale all'importo totale in input (che era 786.0) filtrando per STATO == \"Perfezionamento\", andiamo quindi a fare questa somma:"
   ]
  },
  {
   "cell_type": "code",
   "execution_count": 14,
   "metadata": {},
   "outputs": [
    {
     "data": {
      "text/plain": [
       "786.0"
      ]
     },
     "execution_count": 14,
     "metadata": {},
     "output_type": "execute_result"
    }
   ],
   "source": [
    "pratiche_new[(pratiche_new['STATO'] == \"Perfezionamento\") & (pratiche_new['IDENTE'] == 3800)]['IMPORTO_RATA'].sum()"
   ]
  },
  {
   "cell_type": "markdown",
   "metadata": {},
   "source": [
    "La somma è esattamente 786.0! Quindi ricadiamo nel caso 2 e restituiamo in output le 3 coppie pratiche importo:\n",
    "[(115947, 272.0), (84306, 220.0), (122490, 294.0)]"
   ]
  },
  {
   "cell_type": "markdown",
   "metadata": {},
   "source": [
    "# CASO 3\n",
    "\n",
    "Se la somma dei singoli importi non corrisponde all'importo totale, allora siamo nel caso 3 e qui viene runnato l'algoritmo di backtracking per la ricerca delle combinazioni.\n",
    "\n",
    "Input: IBAN: IT15G0538778590000044312451 con Import Totale: 2334.0"
   ]
  },
  {
   "cell_type": "code",
   "execution_count": 16,
   "metadata": {},
   "outputs": [
    {
     "data": {
      "text/html": [
       "<div>\n",
       "<style scoped>\n",
       "    .dataframe tbody tr th:only-of-type {\n",
       "        vertical-align: middle;\n",
       "    }\n",
       "\n",
       "    .dataframe tbody tr th {\n",
       "        vertical-align: top;\n",
       "    }\n",
       "\n",
       "    .dataframe thead th {\n",
       "        text-align: right;\n",
       "    }\n",
       "</style>\n",
       "<table border=\"1\" class=\"dataframe\">\n",
       "  <thead>\n",
       "    <tr style=\"text-align: right;\">\n",
       "      <th></th>\n",
       "      <th>IDENTE</th>\n",
       "      <th>IBAN_ACCREDITO</th>\n",
       "      <th>DATA_INS</th>\n",
       "      <th>FG_ATTIVO</th>\n",
       "    </tr>\n",
       "  </thead>\n",
       "  <tbody>\n",
       "    <tr>\n",
       "      <th>14161</th>\n",
       "      <td>20554</td>\n",
       "      <td>IT15G0538778590000044312451</td>\n",
       "      <td>2023-06-16 16:03:33</td>\n",
       "      <td>S</td>\n",
       "    </tr>\n",
       "  </tbody>\n",
       "</table>\n",
       "</div>"
      ],
      "text/plain": [
       "       IDENTE               IBAN_ACCREDITO            DATA_INS FG_ATTIVO\n",
       "14161   20554  IT15G0538778590000044312451 2023-06-16 16:03:33         S"
      ]
     },
     "execution_count": 16,
     "metadata": {},
     "output_type": "execute_result"
    }
   ],
   "source": [
    "enti[enti['IBAN_ACCREDITO'] == 'IT15G0538778590000044312451']"
   ]
  },
  {
   "cell_type": "code",
   "execution_count": 17,
   "metadata": {},
   "outputs": [
    {
     "data": {
      "text/html": [
       "<div>\n",
       "<style scoped>\n",
       "    .dataframe tbody tr th:only-of-type {\n",
       "        vertical-align: middle;\n",
       "    }\n",
       "\n",
       "    .dataframe tbody tr th {\n",
       "        vertical-align: top;\n",
       "    }\n",
       "\n",
       "    .dataframe thead th {\n",
       "        text-align: right;\n",
       "    }\n",
       "</style>\n",
       "<table border=\"1\" class=\"dataframe\">\n",
       "  <thead>\n",
       "    <tr style=\"text-align: right;\">\n",
       "      <th></th>\n",
       "      <th>ID_PRATICA</th>\n",
       "      <th>STATO</th>\n",
       "      <th>IMPORTO_RATA</th>\n",
       "      <th>ENTE_PAGANTE</th>\n",
       "      <th>IDENTE</th>\n",
       "      <th>DATA_STATO</th>\n",
       "    </tr>\n",
       "  </thead>\n",
       "  <tbody>\n",
       "  </tbody>\n",
       "</table>\n",
       "</div>"
      ],
      "text/plain": [
       "Empty DataFrame\n",
       "Columns: [ID_PRATICA, STATO, IMPORTO_RATA, ENTE_PAGANTE, IDENTE, DATA_STATO]\n",
       "Index: []"
      ]
     },
     "execution_count": 17,
     "metadata": {},
     "output_type": "execute_result"
    }
   ],
   "source": [
    "pratiche_new[(pratiche_new['IDENTE'] == 20554) & (pratiche_new['IMPORTO_RATA'] == 2334.0) & ((pratiche_new['STATO'] == \"Perfezionamento\"))]"
   ]
  },
  {
   "cell_type": "code",
   "execution_count": 18,
   "metadata": {},
   "outputs": [
    {
     "data": {
      "text/html": [
       "<div>\n",
       "<style scoped>\n",
       "    .dataframe tbody tr th:only-of-type {\n",
       "        vertical-align: middle;\n",
       "    }\n",
       "\n",
       "    .dataframe tbody tr th {\n",
       "        vertical-align: top;\n",
       "    }\n",
       "\n",
       "    .dataframe thead th {\n",
       "        text-align: right;\n",
       "    }\n",
       "</style>\n",
       "<table border=\"1\" class=\"dataframe\">\n",
       "  <thead>\n",
       "    <tr style=\"text-align: right;\">\n",
       "      <th></th>\n",
       "      <th>ID_PRATICA</th>\n",
       "      <th>STATO</th>\n",
       "      <th>IMPORTO_RATA</th>\n",
       "      <th>ENTE_PAGANTE</th>\n",
       "      <th>IDENTE</th>\n",
       "      <th>DATA_STATO</th>\n",
       "    </tr>\n",
       "  </thead>\n",
       "  <tbody>\n",
       "    <tr>\n",
       "      <th>79602</th>\n",
       "      <td>97777</td>\n",
       "      <td>Perfezionamento</td>\n",
       "      <td>366.0</td>\n",
       "      <td>FONDAZIONE DI RELIGIONE E DI CULTO CASA SOLLIEVO DELLA SOFFERENZA - OPERA DI SAN PIO DA PIETRELCINA</td>\n",
       "      <td>20554</td>\n",
       "      <td>2022-05-07</td>\n",
       "    </tr>\n",
       "    <tr>\n",
       "      <th>79603</th>\n",
       "      <td>97483</td>\n",
       "      <td>Perfezionamento</td>\n",
       "      <td>250.0</td>\n",
       "      <td>FONDAZIONE DI RELIGIONE E DI CULTO CASA SOLLIEVO DELLA SOFFERENZA - OPERA DI SAN PIO DA PIETRELCINA</td>\n",
       "      <td>20554</td>\n",
       "      <td>2022-05-07</td>\n",
       "    </tr>\n",
       "    <tr>\n",
       "      <th>79604</th>\n",
       "      <td>97176</td>\n",
       "      <td>Perfezionamento</td>\n",
       "      <td>348.0</td>\n",
       "      <td>FONDAZIONE DI RELIGIONE E DI CULTO CASA SOLLIEVO DELLA SOFFERENZA - OPERA DI SAN PIO DA PIETRELCINA</td>\n",
       "      <td>20554</td>\n",
       "      <td>2022-05-07</td>\n",
       "    </tr>\n",
       "    <tr>\n",
       "      <th>79605</th>\n",
       "      <td>96870</td>\n",
       "      <td>Perfezionamento</td>\n",
       "      <td>270.0</td>\n",
       "      <td>FONDAZIONE DI RELIGIONE E DI CULTO CASA SOLLIEVO DELLA SOFFERENZA - OPERA DI SAN PIO DA PIETRELCINA</td>\n",
       "      <td>20554</td>\n",
       "      <td>2022-05-07</td>\n",
       "    </tr>\n",
       "    <tr>\n",
       "      <th>79607</th>\n",
       "      <td>96077</td>\n",
       "      <td>Perfezionamento</td>\n",
       "      <td>330.0</td>\n",
       "      <td>FONDAZIONE DI RELIGIONE E DI CULTO CASA SOLLIEVO DELLA SOFFERENZA - OPERA DI SAN PIO DA PIETRELCINA</td>\n",
       "      <td>20554</td>\n",
       "      <td>2022-05-07</td>\n",
       "    </tr>\n",
       "    <tr>\n",
       "      <th>79608</th>\n",
       "      <td>95607</td>\n",
       "      <td>Perfezionamento</td>\n",
       "      <td>337.0</td>\n",
       "      <td>FONDAZIONE DI RELIGIONE E DI CULTO CASA SOLLIEVO DELLA SOFFERENZA - OPERA DI SAN PIO DA PIETRELCINA</td>\n",
       "      <td>20554</td>\n",
       "      <td>2022-05-07</td>\n",
       "    </tr>\n",
       "    <tr>\n",
       "      <th>79611</th>\n",
       "      <td>93848</td>\n",
       "      <td>Perfezionamento</td>\n",
       "      <td>200.0</td>\n",
       "      <td>FONDAZIONE DI RELIGIONE E DI CULTO CASA SOLLIEVO DELLA SOFFERENZA - OPERA DI SAN PIO DA PIETRELCINA</td>\n",
       "      <td>20554</td>\n",
       "      <td>2022-05-07</td>\n",
       "    </tr>\n",
       "    <tr>\n",
       "      <th>79612</th>\n",
       "      <td>93674</td>\n",
       "      <td>Perfezionamento</td>\n",
       "      <td>233.0</td>\n",
       "      <td>FONDAZIONE DI RELIGIONE E DI CULTO CASA SOLLIEVO DELLA SOFFERENZA - OPERA DI SAN PIO DA PIETRELCINA</td>\n",
       "      <td>20554</td>\n",
       "      <td>2022-05-07</td>\n",
       "    </tr>\n",
       "    <tr>\n",
       "      <th>79614</th>\n",
       "      <td>80118</td>\n",
       "      <td>Perfezionamento</td>\n",
       "      <td>260.0</td>\n",
       "      <td>FONDAZIONE DI RELIGIONE E DI CULTO CASA SOLLIEVO DELLA SOFFERENZA - OPERA DI SAN PIO DA PIETRELCINA</td>\n",
       "      <td>20554</td>\n",
       "      <td>2021-11-08</td>\n",
       "    </tr>\n",
       "  </tbody>\n",
       "</table>\n",
       "</div>"
      ],
      "text/plain": [
       "       ID_PRATICA            STATO  IMPORTO_RATA  \\\n",
       "79602       97777  Perfezionamento         366.0   \n",
       "79603       97483  Perfezionamento         250.0   \n",
       "79604       97176  Perfezionamento         348.0   \n",
       "79605       96870  Perfezionamento         270.0   \n",
       "79607       96077  Perfezionamento         330.0   \n",
       "79608       95607  Perfezionamento         337.0   \n",
       "79611       93848  Perfezionamento         200.0   \n",
       "79612       93674  Perfezionamento         233.0   \n",
       "79614       80118  Perfezionamento         260.0   \n",
       "\n",
       "                                                                                              ENTE_PAGANTE  \\\n",
       "79602  FONDAZIONE DI RELIGIONE E DI CULTO CASA SOLLIEVO DELLA SOFFERENZA - OPERA DI SAN PIO DA PIETRELCINA   \n",
       "79603  FONDAZIONE DI RELIGIONE E DI CULTO CASA SOLLIEVO DELLA SOFFERENZA - OPERA DI SAN PIO DA PIETRELCINA   \n",
       "79604  FONDAZIONE DI RELIGIONE E DI CULTO CASA SOLLIEVO DELLA SOFFERENZA - OPERA DI SAN PIO DA PIETRELCINA   \n",
       "79605  FONDAZIONE DI RELIGIONE E DI CULTO CASA SOLLIEVO DELLA SOFFERENZA - OPERA DI SAN PIO DA PIETRELCINA   \n",
       "79607  FONDAZIONE DI RELIGIONE E DI CULTO CASA SOLLIEVO DELLA SOFFERENZA - OPERA DI SAN PIO DA PIETRELCINA   \n",
       "79608  FONDAZIONE DI RELIGIONE E DI CULTO CASA SOLLIEVO DELLA SOFFERENZA - OPERA DI SAN PIO DA PIETRELCINA   \n",
       "79611  FONDAZIONE DI RELIGIONE E DI CULTO CASA SOLLIEVO DELLA SOFFERENZA - OPERA DI SAN PIO DA PIETRELCINA   \n",
       "79612  FONDAZIONE DI RELIGIONE E DI CULTO CASA SOLLIEVO DELLA SOFFERENZA - OPERA DI SAN PIO DA PIETRELCINA   \n",
       "79614  FONDAZIONE DI RELIGIONE E DI CULTO CASA SOLLIEVO DELLA SOFFERENZA - OPERA DI SAN PIO DA PIETRELCINA   \n",
       "\n",
       "       IDENTE DATA_STATO  \n",
       "79602   20554 2022-05-07  \n",
       "79603   20554 2022-05-07  \n",
       "79604   20554 2022-05-07  \n",
       "79605   20554 2022-05-07  \n",
       "79607   20554 2022-05-07  \n",
       "79608   20554 2022-05-07  \n",
       "79611   20554 2022-05-07  \n",
       "79612   20554 2022-05-07  \n",
       "79614   20554 2021-11-08  "
      ]
     },
     "execution_count": 18,
     "metadata": {},
     "output_type": "execute_result"
    }
   ],
   "source": [
    "pratiche_new[(pratiche_new['IDENTE'] == 20554) & ((pratiche_new['STATO'] == \"Perfezionamento\"))]"
   ]
  },
  {
   "cell_type": "code",
   "execution_count": 19,
   "metadata": {},
   "outputs": [
    {
     "data": {
      "text/plain": [
       "2594.0"
      ]
     },
     "execution_count": 19,
     "metadata": {},
     "output_type": "execute_result"
    }
   ],
   "source": [
    "pratiche_new[(pratiche_new['STATO'] == \"Perfezionamento\") & (pratiche_new['IDENTE'] == 20554)]['IMPORTO_RATA'].sum()"
   ]
  },
  {
   "cell_type": "markdown",
   "metadata": {},
   "source": [
    "Essendo che questa somma è diversa dall'importo totale che abbiamo in input (che è 2334.0), allora ricadiamo nel caso 3 dove dobbiamo andare a cercare le combinazioni tramite l'algoritmo di backtracking. Quindi viene lanciata la funzione:\n",
    "\n",
    "```python\n",
    "\n",
    "k_combinazioni_restituite_caso3 = get_combinations()\n",
    "\n",
    "```\n",
    "\n",
    "Quindi in questo caso verranno restituite in output le combinazioni trovate, di cui al massimo 1 sarà corretta. Se nessuna è corretta (nota: sarà il dipendente a deciderlo se è corretta o meno), allora questo mandato verrà mandato in stato di Sinistro. "
   ]
  },
  {
   "cell_type": "markdown",
   "metadata": {},
   "source": [
    "NOTA riguardante l'output restituito: quando vengono incontrati nei casi edge, non viene restituta nessuna coppia / liste di coppie, ma per il mommento restituiamo None. Nella fattispecie, nella funzione `get_association()` vengono gestiti questi casi None:\n",
    "```python\n",
    "if iban == \"IT75I0315801600BO0990000300\":\n",
    "    self.iban_banca_sistema += 1\n",
    "    return None, \"banca_sistema\"\n",
    "\n",
    "if \"INPS\" in idco45 or \"I.N.P.S\" in idco45:\n",
    "    self.iban_inps += 1\n",
    "\n",
    "if not iban:\n",
    "    self.iban_none += 1\n",
    "    return None, \"iban_none\"\n",
    "\n",
    "id_ente = self.get_id_ente(iban, iban_to_idente)\n",
    "if not id_ente:\n",
    "    return None, \"identi_none\"\n",
    "```"
   ]
  },
  {
   "cell_type": "markdown",
   "metadata": {},
   "source": [
    "IBAN Giuseppe: IT75I0315801600BO0990000300\n",
    "ID ENTE: 123\n",
    "Rata di Giuseppe: 200€\n",
    "\n",
    "IBAN FSannicola: IT75I03158016075975949567\n",
    "ID ENTE: 123\n",
    "Rata di FSannicola: 200€\n",
    "\n",
    "IBAN Giacomo: IT58JFOGJAOIGFEOIGFIOFJIJFIJ\n",
    "ID ENTE: 123\n",
    "Rata di Giacomo: 200€"
   ]
  }
 ],
 "metadata": {
  "colab": {
   "provenance": [],
   "toc_visible": true
  },
  "kernelspec": {
   "display_name": "Python 3 (ipykernel)",
   "language": "python",
   "name": "python3"
  },
  "language_info": {
   "codemirror_mode": {
    "name": "ipython",
    "version": 3
   },
   "file_extension": ".py",
   "mimetype": "text/x-python",
   "name": "python",
   "nbconvert_exporter": "python",
   "pygments_lexer": "ipython3",
   "version": "3.10.12"
  }
 },
 "nbformat": 4,
 "nbformat_minor": 4
}
